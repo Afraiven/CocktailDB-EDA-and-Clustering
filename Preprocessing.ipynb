{
 "cells": [
  {
   "cell_type": "code",
   "execution_count": 91,
   "metadata": {},
   "outputs": [],
   "source": [
    "import pandas as pd\n",
    "import numpy as np\n",
    "import matplotlib.pyplot as plt\n",
    "from sklearn.preprocessing import StandardScaler"
   ]
  },
  {
   "cell_type": "code",
   "execution_count": 92,
   "metadata": {},
   "outputs": [],
   "source": [
    "data = pd.read_json(\"cocktail_dataset.json\")\n",
    "data.set_index('id', inplace=True)"
   ]
  },
  {
   "cell_type": "code",
   "execution_count": 93,
   "metadata": {},
   "outputs": [
    {
     "data": {
      "text/plain": [
       "Index(['name', 'category', 'glass', 'tags', 'instructions', 'imageUrl',\n",
       "       'alcoholic', 'createdAt', 'updatedAt', 'ingredients'],\n",
       "      dtype='object')"
      ]
     },
     "execution_count": 93,
     "metadata": {},
     "output_type": "execute_result"
    }
   ],
   "source": [
    "data.columns"
   ]
  },
  {
   "cell_type": "code",
   "execution_count": 94,
   "metadata": {},
   "outputs": [
    {
     "name": "stdout",
     "output_type": "stream",
     "text": [
      "name             0\n",
      "category         0\n",
      "glass            0\n",
      "tags            99\n",
      "instructions     0\n",
      "imageUrl         0\n",
      "alcoholic        0\n",
      "createdAt        0\n",
      "updatedAt        0\n",
      "ingredients      0\n",
      "dtype: int64\n"
     ]
    }
   ],
   "source": [
    "print(data.isnull().sum())"
   ]
  },
  {
   "cell_type": "code",
   "execution_count": 95,
   "metadata": {},
   "outputs": [],
   "source": [
    "data['tags'] = data['tags'].apply(lambda x: x if isinstance(x, list) else [])"
   ]
  },
  {
   "cell_type": "markdown",
   "metadata": {},
   "source": [
    "Zaczynam od usunięcia imageUrl, createdAt, updatedAt, ponieważ nie wnoszą nic, a same daty dotyczą jednego dnia"
   ]
  },
  {
   "cell_type": "code",
   "execution_count": 96,
   "metadata": {},
   "outputs": [],
   "source": [
    "data = data.drop(columns=[\"imageUrl\", \"createdAt\", \"updatedAt\"])"
   ]
  },
  {
   "cell_type": "code",
   "execution_count": 97,
   "metadata": {},
   "outputs": [],
   "source": [
    "# oficjalne IBA\n",
    "with open(\"official_IBA.txt\", \"r\", encoding=\"utf-8\") as file:\n",
    "    official_IBA = file.read().splitlines()\n",
    "\n",
    "# tworzę nową kolumnę z wartościami 0 i 1 dla tagów IBA\n",
    "data[\"IBA\"] = 0\n",
    "for i, row in data.iterrows():\n",
    "    if row[\"name\"] in official_IBA:\n",
    "        data.at[i, \"IBA\"] = 1"
   ]
  },
  {
   "cell_type": "code",
   "execution_count": 98,
   "metadata": {},
   "outputs": [
    {
     "data": {
      "text/html": [
       "<div>\n",
       "<style scoped>\n",
       "    .dataframe tbody tr th:only-of-type {\n",
       "        vertical-align: middle;\n",
       "    }\n",
       "\n",
       "    .dataframe tbody tr th {\n",
       "        vertical-align: top;\n",
       "    }\n",
       "\n",
       "    .dataframe thead th {\n",
       "        text-align: right;\n",
       "    }\n",
       "</style>\n",
       "<table border=\"1\" class=\"dataframe\">\n",
       "  <thead>\n",
       "    <tr style=\"text-align: right;\">\n",
       "      <th></th>\n",
       "      <th>name</th>\n",
       "      <th>category</th>\n",
       "      <th>glass</th>\n",
       "      <th>tags</th>\n",
       "      <th>instructions</th>\n",
       "      <th>alcoholic</th>\n",
       "      <th>ingredients</th>\n",
       "      <th>IBA</th>\n",
       "    </tr>\n",
       "    <tr>\n",
       "      <th>id</th>\n",
       "      <th></th>\n",
       "      <th></th>\n",
       "      <th></th>\n",
       "      <th></th>\n",
       "      <th></th>\n",
       "      <th></th>\n",
       "      <th></th>\n",
       "      <th></th>\n",
       "    </tr>\n",
       "  </thead>\n",
       "  <tbody>\n",
       "    <tr>\n",
       "      <th>11000</th>\n",
       "      <td>Mojito</td>\n",
       "      <td>Cocktail</td>\n",
       "      <td>Highball glass</td>\n",
       "      <td>[IBA, ContemporaryClassic, Alcoholic, USA, Asi...</td>\n",
       "      <td>Muddle mint leaves with sugar and lime juice. ...</td>\n",
       "      <td>1</td>\n",
       "      <td>[{'id': 170, 'name': 'Soda water', 'descriptio...</td>\n",
       "      <td>1</td>\n",
       "    </tr>\n",
       "    <tr>\n",
       "      <th>11001</th>\n",
       "      <td>Old Fashioned</td>\n",
       "      <td>Cocktail</td>\n",
       "      <td>Old-fashioned glass</td>\n",
       "      <td>[IBA, Classic, Alcoholic, Expensive, Savory]</td>\n",
       "      <td>Place sugar cube in old fashioned glass and sa...</td>\n",
       "      <td>1</td>\n",
       "      <td>[{'id': 513, 'name': 'Water', 'description': '...</td>\n",
       "      <td>1</td>\n",
       "    </tr>\n",
       "    <tr>\n",
       "      <th>11002</th>\n",
       "      <td>Long Island Tea</td>\n",
       "      <td>Ordinary Drink</td>\n",
       "      <td>Highball glass</td>\n",
       "      <td>[Strong, Asia, StrongFlavor, Brunch, Vegetaria...</td>\n",
       "      <td>Combine all ingredients (except cola) and pour...</td>\n",
       "      <td>1</td>\n",
       "      <td>[{'id': 305, 'name': 'Light Rum', 'description...</td>\n",
       "      <td>0</td>\n",
       "    </tr>\n",
       "    <tr>\n",
       "      <th>11003</th>\n",
       "      <td>Negroni</td>\n",
       "      <td>Ordinary Drink</td>\n",
       "      <td>Old-fashioned glass</td>\n",
       "      <td>[IBA, Classic]</td>\n",
       "      <td>Stir into glass over ice, garnish and serve.</td>\n",
       "      <td>1</td>\n",
       "      <td>[{'id': 482, 'name': 'Sweet Vermouth', 'descri...</td>\n",
       "      <td>1</td>\n",
       "    </tr>\n",
       "    <tr>\n",
       "      <th>11004</th>\n",
       "      <td>Whiskey Sour</td>\n",
       "      <td>Ordinary Drink</td>\n",
       "      <td>Old-fashioned glass</td>\n",
       "      <td>[IBA, Classic, Alcoholic, ContemporaryClassic]</td>\n",
       "      <td>Shake with ice. Strain into chilled glass, gar...</td>\n",
       "      <td>1</td>\n",
       "      <td>[{'id': 409, 'name': 'Powdered Sugar', 'descri...</td>\n",
       "      <td>1</td>\n",
       "    </tr>\n",
       "  </tbody>\n",
       "</table>\n",
       "</div>"
      ],
      "text/plain": [
       "                  name        category                glass  \\\n",
       "id                                                            \n",
       "11000           Mojito        Cocktail       Highball glass   \n",
       "11001    Old Fashioned        Cocktail  Old-fashioned glass   \n",
       "11002  Long Island Tea  Ordinary Drink       Highball glass   \n",
       "11003          Negroni  Ordinary Drink  Old-fashioned glass   \n",
       "11004     Whiskey Sour  Ordinary Drink  Old-fashioned glass   \n",
       "\n",
       "                                                    tags  \\\n",
       "id                                                         \n",
       "11000  [IBA, ContemporaryClassic, Alcoholic, USA, Asi...   \n",
       "11001       [IBA, Classic, Alcoholic, Expensive, Savory]   \n",
       "11002  [Strong, Asia, StrongFlavor, Brunch, Vegetaria...   \n",
       "11003                                     [IBA, Classic]   \n",
       "11004     [IBA, Classic, Alcoholic, ContemporaryClassic]   \n",
       "\n",
       "                                            instructions  alcoholic  \\\n",
       "id                                                                    \n",
       "11000  Muddle mint leaves with sugar and lime juice. ...          1   \n",
       "11001  Place sugar cube in old fashioned glass and sa...          1   \n",
       "11002  Combine all ingredients (except cola) and pour...          1   \n",
       "11003       Stir into glass over ice, garnish and serve.          1   \n",
       "11004  Shake with ice. Strain into chilled glass, gar...          1   \n",
       "\n",
       "                                             ingredients  IBA  \n",
       "id                                                             \n",
       "11000  [{'id': 170, 'name': 'Soda water', 'descriptio...    1  \n",
       "11001  [{'id': 513, 'name': 'Water', 'description': '...    1  \n",
       "11002  [{'id': 305, 'name': 'Light Rum', 'description...    0  \n",
       "11003  [{'id': 482, 'name': 'Sweet Vermouth', 'descri...    1  \n",
       "11004  [{'id': 409, 'name': 'Powdered Sugar', 'descri...    1  "
      ]
     },
     "execution_count": 98,
     "metadata": {},
     "output_type": "execute_result"
    }
   ],
   "source": [
    "data.head()"
   ]
  },
  {
   "cell_type": "markdown",
   "metadata": {},
   "source": [
    "Dodaję każdemu wierszowi tag Alcoholic, zgodny z kolumną alcoholic"
   ]
  },
  {
   "cell_type": "code",
   "execution_count": 99,
   "metadata": {},
   "outputs": [],
   "source": [
    "for i, row in data.iterrows():\n",
    "    if type(row[\"tags\"]) == list:\n",
    "        if \"Alcoholic\" not in row[\"tags\"]:\n",
    "            row[\"tags\"].append(\"Alcoholic\")\n",
    "    else:\n",
    "        row[\"tags\"] = [\"Alcoholic\"]"
   ]
  },
  {
   "cell_type": "code",
   "execution_count": 100,
   "metadata": {},
   "outputs": [
    {
     "data": {
      "text/html": [
       "<div>\n",
       "<style scoped>\n",
       "    .dataframe tbody tr th:only-of-type {\n",
       "        vertical-align: middle;\n",
       "    }\n",
       "\n",
       "    .dataframe tbody tr th {\n",
       "        vertical-align: top;\n",
       "    }\n",
       "\n",
       "    .dataframe thead th {\n",
       "        text-align: right;\n",
       "    }\n",
       "</style>\n",
       "<table border=\"1\" class=\"dataframe\">\n",
       "  <thead>\n",
       "    <tr style=\"text-align: right;\">\n",
       "      <th></th>\n",
       "      <th>name</th>\n",
       "      <th>category</th>\n",
       "      <th>glass</th>\n",
       "      <th>tags</th>\n",
       "      <th>instructions</th>\n",
       "      <th>alcoholic</th>\n",
       "      <th>ingredients</th>\n",
       "      <th>IBA</th>\n",
       "    </tr>\n",
       "    <tr>\n",
       "      <th>id</th>\n",
       "      <th></th>\n",
       "      <th></th>\n",
       "      <th></th>\n",
       "      <th></th>\n",
       "      <th></th>\n",
       "      <th></th>\n",
       "      <th></th>\n",
       "      <th></th>\n",
       "    </tr>\n",
       "  </thead>\n",
       "  <tbody>\n",
       "    <tr>\n",
       "      <th>11000</th>\n",
       "      <td>Mojito</td>\n",
       "      <td>Cocktail</td>\n",
       "      <td>Highball glass</td>\n",
       "      <td>[IBA, ContemporaryClassic, Alcoholic, USA, Asi...</td>\n",
       "      <td>Muddle mint leaves with sugar and lime juice. ...</td>\n",
       "      <td>1</td>\n",
       "      <td>[{'id': 170, 'name': 'Soda water', 'descriptio...</td>\n",
       "      <td>1</td>\n",
       "    </tr>\n",
       "    <tr>\n",
       "      <th>11001</th>\n",
       "      <td>Old Fashioned</td>\n",
       "      <td>Cocktail</td>\n",
       "      <td>Old-fashioned glass</td>\n",
       "      <td>[IBA, Classic, Alcoholic, Expensive, Savory]</td>\n",
       "      <td>Place sugar cube in old fashioned glass and sa...</td>\n",
       "      <td>1</td>\n",
       "      <td>[{'id': 513, 'name': 'Water', 'description': '...</td>\n",
       "      <td>1</td>\n",
       "    </tr>\n",
       "    <tr>\n",
       "      <th>11002</th>\n",
       "      <td>Long Island Tea</td>\n",
       "      <td>Ordinary Drink</td>\n",
       "      <td>Highball glass</td>\n",
       "      <td>[Strong, Asia, StrongFlavor, Brunch, Vegetaria...</td>\n",
       "      <td>Combine all ingredients (except cola) and pour...</td>\n",
       "      <td>1</td>\n",
       "      <td>[{'id': 305, 'name': 'Light Rum', 'description...</td>\n",
       "      <td>0</td>\n",
       "    </tr>\n",
       "    <tr>\n",
       "      <th>11003</th>\n",
       "      <td>Negroni</td>\n",
       "      <td>Ordinary Drink</td>\n",
       "      <td>Old-fashioned glass</td>\n",
       "      <td>[IBA, Classic, Alcoholic]</td>\n",
       "      <td>Stir into glass over ice, garnish and serve.</td>\n",
       "      <td>1</td>\n",
       "      <td>[{'id': 482, 'name': 'Sweet Vermouth', 'descri...</td>\n",
       "      <td>1</td>\n",
       "    </tr>\n",
       "    <tr>\n",
       "      <th>11004</th>\n",
       "      <td>Whiskey Sour</td>\n",
       "      <td>Ordinary Drink</td>\n",
       "      <td>Old-fashioned glass</td>\n",
       "      <td>[IBA, Classic, Alcoholic, ContemporaryClassic]</td>\n",
       "      <td>Shake with ice. Strain into chilled glass, gar...</td>\n",
       "      <td>1</td>\n",
       "      <td>[{'id': 409, 'name': 'Powdered Sugar', 'descri...</td>\n",
       "      <td>1</td>\n",
       "    </tr>\n",
       "  </tbody>\n",
       "</table>\n",
       "</div>"
      ],
      "text/plain": [
       "                  name        category                glass  \\\n",
       "id                                                            \n",
       "11000           Mojito        Cocktail       Highball glass   \n",
       "11001    Old Fashioned        Cocktail  Old-fashioned glass   \n",
       "11002  Long Island Tea  Ordinary Drink       Highball glass   \n",
       "11003          Negroni  Ordinary Drink  Old-fashioned glass   \n",
       "11004     Whiskey Sour  Ordinary Drink  Old-fashioned glass   \n",
       "\n",
       "                                                    tags  \\\n",
       "id                                                         \n",
       "11000  [IBA, ContemporaryClassic, Alcoholic, USA, Asi...   \n",
       "11001       [IBA, Classic, Alcoholic, Expensive, Savory]   \n",
       "11002  [Strong, Asia, StrongFlavor, Brunch, Vegetaria...   \n",
       "11003                          [IBA, Classic, Alcoholic]   \n",
       "11004     [IBA, Classic, Alcoholic, ContemporaryClassic]   \n",
       "\n",
       "                                            instructions  alcoholic  \\\n",
       "id                                                                    \n",
       "11000  Muddle mint leaves with sugar and lime juice. ...          1   \n",
       "11001  Place sugar cube in old fashioned glass and sa...          1   \n",
       "11002  Combine all ingredients (except cola) and pour...          1   \n",
       "11003       Stir into glass over ice, garnish and serve.          1   \n",
       "11004  Shake with ice. Strain into chilled glass, gar...          1   \n",
       "\n",
       "                                             ingredients  IBA  \n",
       "id                                                             \n",
       "11000  [{'id': 170, 'name': 'Soda water', 'descriptio...    1  \n",
       "11001  [{'id': 513, 'name': 'Water', 'description': '...    1  \n",
       "11002  [{'id': 305, 'name': 'Light Rum', 'description...    0  \n",
       "11003  [{'id': 482, 'name': 'Sweet Vermouth', 'descri...    1  \n",
       "11004  [{'id': 409, 'name': 'Powdered Sugar', 'descri...    1  "
      ]
     },
     "execution_count": 100,
     "metadata": {},
     "output_type": "execute_result"
    }
   ],
   "source": [
    "data.head()"
   ]
  },
  {
   "cell_type": "code",
   "execution_count": 101,
   "metadata": {},
   "outputs": [
    {
     "data": {
      "text/plain": [
       "{'Cocktail', 'Ordinary Drink', 'Punch / Party Drink'}"
      ]
     },
     "execution_count": 101,
     "metadata": {},
     "output_type": "execute_result"
    }
   ],
   "source": [
    "set(data.category)"
   ]
  },
  {
   "cell_type": "markdown",
   "metadata": {},
   "source": [
    "Są 3 kategorie drinków, więc zastosuję one-hot encoding"
   ]
  },
  {
   "cell_type": "code",
   "execution_count": 102,
   "metadata": {},
   "outputs": [],
   "source": [
    "data = pd.get_dummies(data, columns=['category'])\n",
    "\n",
    "dummy_columns = [col for col in data.columns if col.startswith('category_')]\n",
    "data[dummy_columns] = data[dummy_columns].astype(int)"
   ]
  },
  {
   "cell_type": "markdown",
   "metadata": {},
   "source": [
    "One-hot encoding zastosuję również na kolumnie glass"
   ]
  },
  {
   "cell_type": "code",
   "execution_count": 103,
   "metadata": {},
   "outputs": [
    {
     "data": {
      "text/plain": [
       "{'Brandy snifter',\n",
       " 'Champagne flute',\n",
       " 'Cocktail glass',\n",
       " 'Collins glass',\n",
       " 'Copper Mug',\n",
       " 'Highball glass',\n",
       " 'Old-fashioned glass',\n",
       " 'Pousse cafe glass',\n",
       " 'Whiskey Glass',\n",
       " 'Whiskey sour glass',\n",
       " 'White wine glass'}"
      ]
     },
     "execution_count": 103,
     "metadata": {},
     "output_type": "execute_result"
    }
   ],
   "source": [
    "set(data.glass)"
   ]
  },
  {
   "cell_type": "code",
   "execution_count": 104,
   "metadata": {},
   "outputs": [],
   "source": [
    "data = pd.get_dummies(data, columns=['glass'])\n",
    "\n",
    "dummy_columns = [col for col in data.columns if col.startswith('glass')]\n",
    "data[dummy_columns] = data[dummy_columns].astype(int)"
   ]
  },
  {
   "cell_type": "markdown",
   "metadata": {},
   "source": [
    "Na bazię kolumny name, dodam kolumnę ingredientInName. W EDA okazało się, że 25% drinków zawiera jakiś składnik w nazwię."
   ]
  },
  {
   "cell_type": "code",
   "execution_count": 105,
   "metadata": {},
   "outputs": [
    {
     "data": {
      "text/plain": [
       "ingredientInName\n",
       "0    105\n",
       "1     29\n",
       "Name: count, dtype: int64"
      ]
     },
     "execution_count": 105,
     "metadata": {},
     "output_type": "execute_result"
    }
   ],
   "source": [
    "data[\"ingredientInName\"] = 0\n",
    "\n",
    "for i, row in data.iterrows():\n",
    "    for ingredient in row[\"ingredients\"]:\n",
    "        if ingredient['name'] in row[\"name\"]:\n",
    "            data.at[i, \"ingredientInName\"] = 1\n",
    "\n",
    "data.head()\n",
    "data[\"ingredientInName\"].value_counts()"
   ]
  },
  {
   "cell_type": "markdown",
   "metadata": {},
   "source": [
    "Teraz usuwam kolumne name, da się ją odzyskać po id."
   ]
  },
  {
   "cell_type": "code",
   "execution_count": 106,
   "metadata": {},
   "outputs": [],
   "source": [
    "data = data.drop(columns=[\"name\"])"
   ]
  },
  {
   "cell_type": "markdown",
   "metadata": {},
   "source": [
    "Dodaję kolumne instructionsLength określającą długość instrukcji w liczbie słów, dodatkowo skaluję tę kolumne używając StandardScaler().\n",
    "Usuwam kolumne instructions."
   ]
  },
  {
   "cell_type": "code",
   "execution_count": 107,
   "metadata": {},
   "outputs": [],
   "source": [
    "data['instructions_length'] = data['instructions'].apply(lambda x: len(x.split()))\n",
    "\n",
    "scaler = StandardScaler()\n",
    "data['instructions_length'] = scaler.fit_transform(data[['instructions_length']])\n",
    "\n",
    "data = data.drop(columns=[\"instructions\"])"
   ]
  },
  {
   "cell_type": "markdown",
   "metadata": {},
   "source": [
    "Dodaję kolejno ilość tagów tagsCount i ingredientsCount, po czym je skaluję."
   ]
  },
  {
   "cell_type": "code",
   "execution_count": 112,
   "metadata": {},
   "outputs": [],
   "source": [
    "data['tagsCount'] = data['tags'].apply(lambda x: len(x) if x is not None else 0)\n",
    "data['ingredientsCount'] = data['ingredients'].apply(lambda x: len(x) if x is not None else 0)\n",
    "\n",
    "data[['tagsCount', 'ingredientsCount']] = scaler.fit_transform(data[['tagsCount', 'ingredientsCount']])"
   ]
  },
  {
   "cell_type": "code",
   "execution_count": 115,
   "metadata": {},
   "outputs": [
    {
     "data": {
      "text/html": [
       "<div>\n",
       "<style scoped>\n",
       "    .dataframe tbody tr th:only-of-type {\n",
       "        vertical-align: middle;\n",
       "    }\n",
       "\n",
       "    .dataframe tbody tr th {\n",
       "        vertical-align: top;\n",
       "    }\n",
       "\n",
       "    .dataframe thead th {\n",
       "        text-align: right;\n",
       "    }\n",
       "</style>\n",
       "<table border=\"1\" class=\"dataframe\">\n",
       "  <thead>\n",
       "    <tr style=\"text-align: right;\">\n",
       "      <th></th>\n",
       "      <th>tags</th>\n",
       "      <th>alcoholic</th>\n",
       "      <th>ingredients</th>\n",
       "      <th>IBA</th>\n",
       "      <th>category_Cocktail</th>\n",
       "      <th>category_Ordinary Drink</th>\n",
       "      <th>category_Punch / Party Drink</th>\n",
       "      <th>glass_Brandy snifter</th>\n",
       "      <th>glass_Champagne flute</th>\n",
       "      <th>glass_Cocktail glass</th>\n",
       "      <th>...</th>\n",
       "      <th>glass_Highball glass</th>\n",
       "      <th>glass_Old-fashioned glass</th>\n",
       "      <th>glass_Pousse cafe glass</th>\n",
       "      <th>glass_Whiskey Glass</th>\n",
       "      <th>glass_Whiskey sour glass</th>\n",
       "      <th>glass_White wine glass</th>\n",
       "      <th>ingredientInName</th>\n",
       "      <th>instructions_length</th>\n",
       "      <th>tagsCount</th>\n",
       "      <th>ingredientsCount</th>\n",
       "    </tr>\n",
       "    <tr>\n",
       "      <th>id</th>\n",
       "      <th></th>\n",
       "      <th></th>\n",
       "      <th></th>\n",
       "      <th></th>\n",
       "      <th></th>\n",
       "      <th></th>\n",
       "      <th></th>\n",
       "      <th></th>\n",
       "      <th></th>\n",
       "      <th></th>\n",
       "      <th></th>\n",
       "      <th></th>\n",
       "      <th></th>\n",
       "      <th></th>\n",
       "      <th></th>\n",
       "      <th></th>\n",
       "      <th></th>\n",
       "      <th></th>\n",
       "      <th></th>\n",
       "      <th></th>\n",
       "      <th></th>\n",
       "    </tr>\n",
       "  </thead>\n",
       "  <tbody>\n",
       "    <tr>\n",
       "      <th>11000</th>\n",
       "      <td>[IBA, ContemporaryClassic, Alcoholic, USA, Asi...</td>\n",
       "      <td>1</td>\n",
       "      <td>[{'id': 170, 'name': 'Soda water', 'descriptio...</td>\n",
       "      <td>1</td>\n",
       "      <td>1</td>\n",
       "      <td>0</td>\n",
       "      <td>0</td>\n",
       "      <td>0</td>\n",
       "      <td>0</td>\n",
       "      <td>0</td>\n",
       "      <td>...</td>\n",
       "      <td>1</td>\n",
       "      <td>0</td>\n",
       "      <td>0</td>\n",
       "      <td>0</td>\n",
       "      <td>0</td>\n",
       "      <td>0</td>\n",
       "      <td>0</td>\n",
       "      <td>1.278194</td>\n",
       "      <td>6.648649</td>\n",
       "      <td>0.819279</td>\n",
       "    </tr>\n",
       "    <tr>\n",
       "      <th>11001</th>\n",
       "      <td>[IBA, Classic, Alcoholic, Expensive, Savory]</td>\n",
       "      <td>1</td>\n",
       "      <td>[{'id': 513, 'name': 'Water', 'description': '...</td>\n",
       "      <td>1</td>\n",
       "      <td>1</td>\n",
       "      <td>0</td>\n",
       "      <td>0</td>\n",
       "      <td>0</td>\n",
       "      <td>0</td>\n",
       "      <td>0</td>\n",
       "      <td>...</td>\n",
       "      <td>0</td>\n",
       "      <td>1</td>\n",
       "      <td>0</td>\n",
       "      <td>0</td>\n",
       "      <td>0</td>\n",
       "      <td>0</td>\n",
       "      <td>0</td>\n",
       "      <td>1.600752</td>\n",
       "      <td>2.696036</td>\n",
       "      <td>0.029470</td>\n",
       "    </tr>\n",
       "    <tr>\n",
       "      <th>11002</th>\n",
       "      <td>[Strong, Asia, StrongFlavor, Brunch, Vegetaria...</td>\n",
       "      <td>1</td>\n",
       "      <td>[{'id': 305, 'name': 'Light Rum', 'description...</td>\n",
       "      <td>0</td>\n",
       "      <td>0</td>\n",
       "      <td>1</td>\n",
       "      <td>0</td>\n",
       "      <td>0</td>\n",
       "      <td>0</td>\n",
       "      <td>0</td>\n",
       "      <td>...</td>\n",
       "      <td>1</td>\n",
       "      <td>0</td>\n",
       "      <td>0</td>\n",
       "      <td>0</td>\n",
       "      <td>0</td>\n",
       "      <td>0</td>\n",
       "      <td>0</td>\n",
       "      <td>0.633079</td>\n",
       "      <td>4.277081</td>\n",
       "      <td>1.609087</td>\n",
       "    </tr>\n",
       "    <tr>\n",
       "      <th>11003</th>\n",
       "      <td>[IBA, Classic, Alcoholic]</td>\n",
       "      <td>1</td>\n",
       "      <td>[{'id': 482, 'name': 'Sweet Vermouth', 'descri...</td>\n",
       "      <td>1</td>\n",
       "      <td>0</td>\n",
       "      <td>1</td>\n",
       "      <td>0</td>\n",
       "      <td>0</td>\n",
       "      <td>0</td>\n",
       "      <td>0</td>\n",
       "      <td>...</td>\n",
       "      <td>0</td>\n",
       "      <td>1</td>\n",
       "      <td>0</td>\n",
       "      <td>0</td>\n",
       "      <td>0</td>\n",
       "      <td>0</td>\n",
       "      <td>0</td>\n",
       "      <td>-1.517304</td>\n",
       "      <td>1.114991</td>\n",
       "      <td>-0.760338</td>\n",
       "    </tr>\n",
       "    <tr>\n",
       "      <th>11004</th>\n",
       "      <td>[IBA, Classic, Alcoholic, ContemporaryClassic]</td>\n",
       "      <td>1</td>\n",
       "      <td>[{'id': 409, 'name': 'Powdered Sugar', 'descri...</td>\n",
       "      <td>1</td>\n",
       "      <td>0</td>\n",
       "      <td>1</td>\n",
       "      <td>0</td>\n",
       "      <td>0</td>\n",
       "      <td>0</td>\n",
       "      <td>0</td>\n",
       "      <td>...</td>\n",
       "      <td>0</td>\n",
       "      <td>1</td>\n",
       "      <td>0</td>\n",
       "      <td>0</td>\n",
       "      <td>0</td>\n",
       "      <td>0</td>\n",
       "      <td>0</td>\n",
       "      <td>0.095483</td>\n",
       "      <td>1.905514</td>\n",
       "      <td>0.029470</td>\n",
       "    </tr>\n",
       "  </tbody>\n",
       "</table>\n",
       "<p>5 rows × 22 columns</p>\n",
       "</div>"
      ],
      "text/plain": [
       "                                                    tags  alcoholic  \\\n",
       "id                                                                    \n",
       "11000  [IBA, ContemporaryClassic, Alcoholic, USA, Asi...          1   \n",
       "11001       [IBA, Classic, Alcoholic, Expensive, Savory]          1   \n",
       "11002  [Strong, Asia, StrongFlavor, Brunch, Vegetaria...          1   \n",
       "11003                          [IBA, Classic, Alcoholic]          1   \n",
       "11004     [IBA, Classic, Alcoholic, ContemporaryClassic]          1   \n",
       "\n",
       "                                             ingredients  IBA  \\\n",
       "id                                                              \n",
       "11000  [{'id': 170, 'name': 'Soda water', 'descriptio...    1   \n",
       "11001  [{'id': 513, 'name': 'Water', 'description': '...    1   \n",
       "11002  [{'id': 305, 'name': 'Light Rum', 'description...    0   \n",
       "11003  [{'id': 482, 'name': 'Sweet Vermouth', 'descri...    1   \n",
       "11004  [{'id': 409, 'name': 'Powdered Sugar', 'descri...    1   \n",
       "\n",
       "       category_Cocktail  category_Ordinary Drink  \\\n",
       "id                                                  \n",
       "11000                  1                        0   \n",
       "11001                  1                        0   \n",
       "11002                  0                        1   \n",
       "11003                  0                        1   \n",
       "11004                  0                        1   \n",
       "\n",
       "       category_Punch / Party Drink  glass_Brandy snifter  \\\n",
       "id                                                          \n",
       "11000                             0                     0   \n",
       "11001                             0                     0   \n",
       "11002                             0                     0   \n",
       "11003                             0                     0   \n",
       "11004                             0                     0   \n",
       "\n",
       "       glass_Champagne flute  glass_Cocktail glass  ...  glass_Highball glass  \\\n",
       "id                                                  ...                         \n",
       "11000                      0                     0  ...                     1   \n",
       "11001                      0                     0  ...                     0   \n",
       "11002                      0                     0  ...                     1   \n",
       "11003                      0                     0  ...                     0   \n",
       "11004                      0                     0  ...                     0   \n",
       "\n",
       "       glass_Old-fashioned glass  glass_Pousse cafe glass  \\\n",
       "id                                                          \n",
       "11000                          0                        0   \n",
       "11001                          1                        0   \n",
       "11002                          0                        0   \n",
       "11003                          1                        0   \n",
       "11004                          1                        0   \n",
       "\n",
       "       glass_Whiskey Glass  glass_Whiskey sour glass  glass_White wine glass  \\\n",
       "id                                                                             \n",
       "11000                    0                         0                       0   \n",
       "11001                    0                         0                       0   \n",
       "11002                    0                         0                       0   \n",
       "11003                    0                         0                       0   \n",
       "11004                    0                         0                       0   \n",
       "\n",
       "       ingredientInName  instructions_length  tagsCount  ingredientsCount  \n",
       "id                                                                         \n",
       "11000                 0             1.278194   6.648649          0.819279  \n",
       "11001                 0             1.600752   2.696036          0.029470  \n",
       "11002                 0             0.633079   4.277081          1.609087  \n",
       "11003                 0            -1.517304   1.114991         -0.760338  \n",
       "11004                 0             0.095483   1.905514          0.029470  \n",
       "\n",
       "[5 rows x 22 columns]"
      ]
     },
     "execution_count": 115,
     "metadata": {},
     "output_type": "execute_result"
    }
   ],
   "source": [
    "data.head()"
   ]
  },
  {
   "cell_type": "markdown",
   "metadata": {},
   "source": []
  },
  {
   "cell_type": "code",
   "execution_count": null,
   "metadata": {},
   "outputs": [],
   "source": []
  },
  {
   "cell_type": "markdown",
   "metadata": {},
   "source": [
    "Chociaż dałoby się wycisnąć z nich więcej, usuwam tagi i składniki."
   ]
  },
  {
   "cell_type": "code",
   "execution_count": null,
   "metadata": {},
   "outputs": [],
   "source": [
    "data = data.drop(columns=[\"tags\", \"ingredients\"])"
   ]
  }
 ],
 "metadata": {
  "kernelspec": {
   "display_name": "Python 3",
   "language": "python",
   "name": "python3"
  },
  "language_info": {
   "codemirror_mode": {
    "name": "ipython",
    "version": 3
   },
   "file_extension": ".py",
   "mimetype": "text/x-python",
   "name": "python",
   "nbconvert_exporter": "python",
   "pygments_lexer": "ipython3",
   "version": "3.12.4"
  }
 },
 "nbformat": 4,
 "nbformat_minor": 2
}
