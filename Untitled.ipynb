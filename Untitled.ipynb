{
 "cells": [
  {
   "cell_type": "code",
   "execution_count": 166,
   "metadata": {},
   "outputs": [],
   "source": [
    "import pandas as pd\n",
    "import numpy as np\n",
    "from sklearn.preprocessing import StandardScaler"
   ]
  },
  {
   "cell_type": "code",
   "execution_count": 167,
   "metadata": {},
   "outputs": [
    {
     "name": "stdout",
     "output_type": "stream",
     "text": [
      "<class 'pandas.core.frame.DataFrame'>\n",
      "Index: 134 entries, 11000 to 11993\n",
      "Data columns (total 10 columns):\n",
      " #   Column        Non-Null Count  Dtype \n",
      "---  ------        --------------  ----- \n",
      " 0   name          134 non-null    object\n",
      " 1   category      134 non-null    object\n",
      " 2   glass         134 non-null    object\n",
      " 3   tags          35 non-null     object\n",
      " 4   instructions  134 non-null    object\n",
      " 5   imageUrl      134 non-null    object\n",
      " 6   alcoholic     134 non-null    int64 \n",
      " 7   createdAt     134 non-null    object\n",
      " 8   updatedAt     134 non-null    object\n",
      " 9   ingredients   134 non-null    object\n",
      "dtypes: int64(1), object(9)\n",
      "memory usage: 11.5+ KB\n"
     ]
    }
   ],
   "source": [
    "data = pd.read_json(\"cocktail_dataset.json\")\n",
    "data.set_index('id', inplace=True)\n",
    "data.info()"
   ]
  },
  {
   "cell_type": "markdown",
   "metadata": {},
   "source": [
    "\n",
    "Preprocessing"
   ]
  },
  {
   "cell_type": "code",
   "execution_count": 168,
   "metadata": {},
   "outputs": [
    {
     "name": "stdout",
     "output_type": "stream",
     "text": [
      "134\n",
      "       alcoholic\n",
      "count      134.0\n",
      "mean         1.0\n",
      "std          0.0\n",
      "min          1.0\n",
      "25%          1.0\n",
      "50%          1.0\n",
      "75%          1.0\n",
      "max          1.0\n"
     ]
    }
   ],
   "source": [
    "print(len(data))\n",
    "print(data.describe())"
   ]
  },
  {
   "cell_type": "markdown",
   "metadata": {},
   "source": [
    "wszystkie drinki okazują się być z alkoholem"
   ]
  },
  {
   "cell_type": "code",
   "execution_count": 169,
   "metadata": {},
   "outputs": [
    {
     "name": "stdout",
     "output_type": "stream",
     "text": [
      "name             0\n",
      "category         0\n",
      "glass            0\n",
      "tags            99\n",
      "instructions     0\n",
      "imageUrl         0\n",
      "alcoholic        0\n",
      "createdAt        0\n",
      "updatedAt        0\n",
      "ingredients      0\n",
      "dtype: int64\n"
     ]
    }
   ],
   "source": [
    "# puste wartości\n",
    "print(data.isnull().sum())"
   ]
  },
  {
   "cell_type": "markdown",
   "metadata": {},
   "source": [
    "usuwam iamgeUrl oraz daty, ponieważ nie wnoszą nic i wszystkie dotyczą jednego dnia"
   ]
  },
  {
   "cell_type": "code",
   "execution_count": 170,
   "metadata": {},
   "outputs": [],
   "source": [
    "data = data.drop(columns=[\"imageUrl\", \"createdAt\", \"updatedAt\"])"
   ]
  },
  {
   "cell_type": "code",
   "execution_count": 171,
   "metadata": {},
   "outputs": [
    {
     "name": "stdout",
     "output_type": "stream",
     "text": [
      "['Alcoholic', 'Asia', 'Beach', 'Breakfast', 'Brunch', 'Chilli', 'Christmas', 'Citrus', 'Classic', 'Cold', 'ContemporaryClassic', 'Dairy', 'DinnerParty', 'Expensive', 'Fruity', 'Hangover', 'IBA', 'Mild', 'NewEra', 'Nutty', 'Savory', 'Sour', 'Strong', 'StrongFlavor', 'Summer', 'USA', 'Vegan', 'Vegetarian']\n"
     ]
    }
   ],
   "source": [
    "# wszystkie tagi\n",
    "tags = set()\n",
    "for tags_list in data['tags']:\n",
    "    if type(tags_list) == list:\n",
    "        for tag in tags_list:\n",
    "            tags.add(tag)\n",
    "print(sorted(tags))"
   ]
  },
  {
   "cell_type": "markdown",
   "metadata": {},
   "source": [
    "Po zweryfikowaniu tagów takich jak IBA okazuja się, że są one puste, ponieważ nie należą do zbioru oficjalnych koktajli IBA,\n",
    "po weryfikacji z oficjalnym zbiorem, utworzę kolumne IBA z wartościami 0/1"
   ]
  },
  {
   "cell_type": "code",
   "execution_count": 172,
   "metadata": {},
   "outputs": [
    {
     "name": "stdout",
     "output_type": "stream",
     "text": [
      "0\n"
     ]
    }
   ],
   "source": [
    "# oficjalne IBA\n",
    "with open(\"official_IBA.txt\", \"r\", encoding=\"utf-8\") as file:\n",
    "    official_IBA = file.read().splitlines()\n",
    "\n",
    "i = 0\n",
    "# weryfikuję czy tagi IBA sie zgadzają \n",
    "for _, row in data.iterrows():\n",
    "    if type(row[\"tags\"]) == list:\n",
    "        if row[\"tags\"].count(\"IBA\") > 0:\n",
    "            if row[\"name\"] not in official_IBA:\n",
    "                pass\n",
    "        elif row[\"name\"] in official_IBA:\n",
    "            print(row[\"name\"], row[\"tags\"])\n",
    "            \n",
    "\n",
    "print(i)"
   ]
  },
  {
   "cell_type": "markdown",
   "metadata": {},
   "source": [
    "Teraz jest pewność, że drinki bez tagów, są drinakmi niezatwierdzonymi przez IBA.\n",
    "\n",
    "Pojawiło się kilka drinków, które nie pasowały, pomimo bycia w tagach IBA, po weryfikacji, okazało się, że zostały usunięte. Na przykład Godfather, usunięty w 2020 roku."
   ]
  },
  {
   "cell_type": "code",
   "execution_count": 173,
   "metadata": {},
   "outputs": [],
   "source": [
    "# tworzę nową kolumnę z wartościami 0 i 1 dla tagów IBA\n",
    "data[\"IBA\"] = 0\n",
    "for i, row in data.iterrows():\n",
    "    if row[\"name\"] in official_IBA:\n",
    "        data.at[i, \"IBA\"] = 1"
   ]
  },
  {
   "cell_type": "markdown",
   "metadata": {},
   "source": [
    "Dodaję każdemu wierszowi tag Alcoholic"
   ]
  },
  {
   "cell_type": "code",
   "execution_count": 174,
   "metadata": {},
   "outputs": [],
   "source": [
    "for i, row in data.iterrows():\n",
    "    if type(row[\"tags\"]) == list:\n",
    "        if \"Alcoholic\" not in row[\"tags\"]:\n",
    "            row[\"tags\"].append(\"Alcoholic\")\n",
    "    else:\n",
    "        row[\"tags\"] = [\"Alcoholic\"]"
   ]
  },
  {
   "cell_type": "code",
   "execution_count": 175,
   "metadata": {},
   "outputs": [
    {
     "data": {
      "text/plain": [
       "{'Cocktail', 'Ordinary Drink', 'Punch / Party Drink'}"
      ]
     },
     "execution_count": 175,
     "metadata": {},
     "output_type": "execute_result"
    }
   ],
   "source": [
    "set(data.category)"
   ]
  },
  {
   "cell_type": "markdown",
   "metadata": {},
   "source": [
    "Są 3 kategorie drinków, więc zastosuję one-hot encoding"
   ]
  },
  {
   "cell_type": "code",
   "execution_count": 176,
   "metadata": {},
   "outputs": [],
   "source": [
    "data = pd.get_dummies(data, columns=['category'])\n",
    "\n",
    "dummy_columns = [col for col in data.columns if col.startswith('category_')]\n",
    "data[dummy_columns] = data[dummy_columns].astype(int)"
   ]
  },
  {
   "cell_type": "code",
   "execution_count": 177,
   "metadata": {},
   "outputs": [
    {
     "data": {
      "text/plain": [
       "Index(['name', 'glass', 'tags', 'instructions', 'alcoholic', 'ingredients',\n",
       "       'IBA', 'category_Cocktail', 'category_Ordinary Drink',\n",
       "       'category_Punch / Party Drink'],\n",
       "      dtype='object')"
      ]
     },
     "execution_count": 177,
     "metadata": {},
     "output_type": "execute_result"
    }
   ],
   "source": [
    "data.columns"
   ]
  },
  {
   "cell_type": "markdown",
   "metadata": {},
   "source": [
    "usuwam także kolumne name ponieważ da się je odczytać po indeksach a nie wnosi nic do klasteryzacji"
   ]
  },
  {
   "cell_type": "code",
   "execution_count": 178,
   "metadata": {},
   "outputs": [],
   "source": [
    "data = data.drop(columns=[\"name\"])"
   ]
  },
  {
   "cell_type": "markdown",
   "metadata": {},
   "source": [
    "stosuję one-hot encoding również dla glass, ma ona 11 kategorii"
   ]
  },
  {
   "cell_type": "code",
   "execution_count": 179,
   "metadata": {},
   "outputs": [],
   "source": [
    "data = pd.get_dummies(data, columns=['glass'])\n",
    "\n",
    "dummy_columns = [col for col in data.columns if col.startswith('glass_')]\n",
    "data[dummy_columns] = data[dummy_columns].astype(int)"
   ]
  },
  {
   "cell_type": "markdown",
   "metadata": {},
   "source": [
    "dodaję kolumne instructions_length określającą długość instrukcji w liczbie słów, dodatkowo skaluję tę kolumne używając StandardScaler()"
   ]
  },
  {
   "cell_type": "code",
   "execution_count": 180,
   "metadata": {},
   "outputs": [],
   "source": [
    "\n",
    "data['instructions_length'] = data['instructions'].apply(lambda x: len(x.split()))\n",
    "\n",
    "scaler = StandardScaler()\n",
    "data['instructions_length'] = scaler.fit_transform(data[['instructions_length']])"
   ]
  },
  {
   "cell_type": "markdown",
   "metadata": {},
   "source": [
    "!!! Chwilowo usuwam ingredients, instructions i tags"
   ]
  },
  {
   "cell_type": "code",
   "execution_count": 181,
   "metadata": {},
   "outputs": [],
   "source": [
    "data = data.drop(columns=[\"ingredients\", \"instructions\", \"tags\"])"
   ]
  },
  {
   "cell_type": "code",
   "execution_count": 182,
   "metadata": {},
   "outputs": [
    {
     "data": {
      "text/html": [
       "<div>\n",
       "<style scoped>\n",
       "    .dataframe tbody tr th:only-of-type {\n",
       "        vertical-align: middle;\n",
       "    }\n",
       "\n",
       "    .dataframe tbody tr th {\n",
       "        vertical-align: top;\n",
       "    }\n",
       "\n",
       "    .dataframe thead th {\n",
       "        text-align: right;\n",
       "    }\n",
       "</style>\n",
       "<table border=\"1\" class=\"dataframe\">\n",
       "  <thead>\n",
       "    <tr style=\"text-align: right;\">\n",
       "      <th></th>\n",
       "      <th>alcoholic</th>\n",
       "      <th>IBA</th>\n",
       "      <th>category_Cocktail</th>\n",
       "      <th>category_Ordinary Drink</th>\n",
       "      <th>category_Punch / Party Drink</th>\n",
       "      <th>glass_Brandy snifter</th>\n",
       "      <th>glass_Champagne flute</th>\n",
       "      <th>glass_Cocktail glass</th>\n",
       "      <th>glass_Collins glass</th>\n",
       "      <th>glass_Copper Mug</th>\n",
       "      <th>glass_Highball glass</th>\n",
       "      <th>glass_Old-fashioned glass</th>\n",
       "      <th>glass_Pousse cafe glass</th>\n",
       "      <th>glass_Whiskey Glass</th>\n",
       "      <th>glass_Whiskey sour glass</th>\n",
       "      <th>glass_White wine glass</th>\n",
       "      <th>instructions_length</th>\n",
       "    </tr>\n",
       "    <tr>\n",
       "      <th>id</th>\n",
       "      <th></th>\n",
       "      <th></th>\n",
       "      <th></th>\n",
       "      <th></th>\n",
       "      <th></th>\n",
       "      <th></th>\n",
       "      <th></th>\n",
       "      <th></th>\n",
       "      <th></th>\n",
       "      <th></th>\n",
       "      <th></th>\n",
       "      <th></th>\n",
       "      <th></th>\n",
       "      <th></th>\n",
       "      <th></th>\n",
       "      <th></th>\n",
       "      <th></th>\n",
       "    </tr>\n",
       "  </thead>\n",
       "  <tbody>\n",
       "    <tr>\n",
       "      <th>11000</th>\n",
       "      <td>1</td>\n",
       "      <td>1</td>\n",
       "      <td>1</td>\n",
       "      <td>0</td>\n",
       "      <td>0</td>\n",
       "      <td>0</td>\n",
       "      <td>0</td>\n",
       "      <td>0</td>\n",
       "      <td>0</td>\n",
       "      <td>0</td>\n",
       "      <td>1</td>\n",
       "      <td>0</td>\n",
       "      <td>0</td>\n",
       "      <td>0</td>\n",
       "      <td>0</td>\n",
       "      <td>0</td>\n",
       "      <td>1.278194</td>\n",
       "    </tr>\n",
       "    <tr>\n",
       "      <th>11001</th>\n",
       "      <td>1</td>\n",
       "      <td>1</td>\n",
       "      <td>1</td>\n",
       "      <td>0</td>\n",
       "      <td>0</td>\n",
       "      <td>0</td>\n",
       "      <td>0</td>\n",
       "      <td>0</td>\n",
       "      <td>0</td>\n",
       "      <td>0</td>\n",
       "      <td>0</td>\n",
       "      <td>1</td>\n",
       "      <td>0</td>\n",
       "      <td>0</td>\n",
       "      <td>0</td>\n",
       "      <td>0</td>\n",
       "      <td>1.600752</td>\n",
       "    </tr>\n",
       "    <tr>\n",
       "      <th>11002</th>\n",
       "      <td>1</td>\n",
       "      <td>0</td>\n",
       "      <td>0</td>\n",
       "      <td>1</td>\n",
       "      <td>0</td>\n",
       "      <td>0</td>\n",
       "      <td>0</td>\n",
       "      <td>0</td>\n",
       "      <td>0</td>\n",
       "      <td>0</td>\n",
       "      <td>1</td>\n",
       "      <td>0</td>\n",
       "      <td>0</td>\n",
       "      <td>0</td>\n",
       "      <td>0</td>\n",
       "      <td>0</td>\n",
       "      <td>0.633079</td>\n",
       "    </tr>\n",
       "    <tr>\n",
       "      <th>11003</th>\n",
       "      <td>1</td>\n",
       "      <td>1</td>\n",
       "      <td>0</td>\n",
       "      <td>1</td>\n",
       "      <td>0</td>\n",
       "      <td>0</td>\n",
       "      <td>0</td>\n",
       "      <td>0</td>\n",
       "      <td>0</td>\n",
       "      <td>0</td>\n",
       "      <td>0</td>\n",
       "      <td>1</td>\n",
       "      <td>0</td>\n",
       "      <td>0</td>\n",
       "      <td>0</td>\n",
       "      <td>0</td>\n",
       "      <td>-1.517304</td>\n",
       "    </tr>\n",
       "    <tr>\n",
       "      <th>11004</th>\n",
       "      <td>1</td>\n",
       "      <td>1</td>\n",
       "      <td>0</td>\n",
       "      <td>1</td>\n",
       "      <td>0</td>\n",
       "      <td>0</td>\n",
       "      <td>0</td>\n",
       "      <td>0</td>\n",
       "      <td>0</td>\n",
       "      <td>0</td>\n",
       "      <td>0</td>\n",
       "      <td>1</td>\n",
       "      <td>0</td>\n",
       "      <td>0</td>\n",
       "      <td>0</td>\n",
       "      <td>0</td>\n",
       "      <td>0.095483</td>\n",
       "    </tr>\n",
       "  </tbody>\n",
       "</table>\n",
       "</div>"
      ],
      "text/plain": [
       "       alcoholic  IBA  category_Cocktail  category_Ordinary Drink  \\\n",
       "id                                                                  \n",
       "11000          1    1                  1                        0   \n",
       "11001          1    1                  1                        0   \n",
       "11002          1    0                  0                        1   \n",
       "11003          1    1                  0                        1   \n",
       "11004          1    1                  0                        1   \n",
       "\n",
       "       category_Punch / Party Drink  glass_Brandy snifter  \\\n",
       "id                                                          \n",
       "11000                             0                     0   \n",
       "11001                             0                     0   \n",
       "11002                             0                     0   \n",
       "11003                             0                     0   \n",
       "11004                             0                     0   \n",
       "\n",
       "       glass_Champagne flute  glass_Cocktail glass  glass_Collins glass  \\\n",
       "id                                                                        \n",
       "11000                      0                     0                    0   \n",
       "11001                      0                     0                    0   \n",
       "11002                      0                     0                    0   \n",
       "11003                      0                     0                    0   \n",
       "11004                      0                     0                    0   \n",
       "\n",
       "       glass_Copper Mug  glass_Highball glass  glass_Old-fashioned glass  \\\n",
       "id                                                                         \n",
       "11000                 0                     1                          0   \n",
       "11001                 0                     0                          1   \n",
       "11002                 0                     1                          0   \n",
       "11003                 0                     0                          1   \n",
       "11004                 0                     0                          1   \n",
       "\n",
       "       glass_Pousse cafe glass  glass_Whiskey Glass  glass_Whiskey sour glass  \\\n",
       "id                                                                              \n",
       "11000                        0                    0                         0   \n",
       "11001                        0                    0                         0   \n",
       "11002                        0                    0                         0   \n",
       "11003                        0                    0                         0   \n",
       "11004                        0                    0                         0   \n",
       "\n",
       "       glass_White wine glass  instructions_length  \n",
       "id                                                  \n",
       "11000                       0             1.278194  \n",
       "11001                       0             1.600752  \n",
       "11002                       0             0.633079  \n",
       "11003                       0            -1.517304  \n",
       "11004                       0             0.095483  "
      ]
     },
     "execution_count": 182,
     "metadata": {},
     "output_type": "execute_result"
    }
   ],
   "source": [
    "data.head()"
   ]
  },
  {
   "cell_type": "code",
   "execution_count": 183,
   "metadata": {},
   "outputs": [
    {
     "data": {
      "image/png": "[encoded data removed]",
      "text/plain": [
       "<Figure size 640x480 with 1 Axes>"
      ]
     },
     "metadata": {},
     "output_type": "display_data"
    }
   ],
   "source": [
    "import pandas as pd\n",
    "from sklearn.cluster import KMeans\n",
    "import matplotlib.pyplot as plt\n",
    "\n",
    "\n",
    "inertia = []\n",
    "k_values = range(1, 10)\n",
    "\n",
    "for k in k_values:\n",
    "    kmeans = KMeans(n_clusters=k, random_state=42)\n",
    "    kmeans.fit(data)\n",
    "    inertia.append(kmeans.inertia_)\n",
    "\n",
    "plt.plot(k_values, inertia, 'bx-')\n",
    "plt.xlabel('Liczba klastrów (k)')\n",
    "plt.ylabel('Inertia')\n",
    "plt.title('Metoda łokcia dla optymalnej liczby klastrów')\n",
    "plt.show()\n",
    "\n"
   ]
  },
  {
   "cell_type": "code",
   "execution_count": 184,
   "metadata": {},
   "outputs": [],
   "source": [
    "kmeans = KMeans(n_clusters=3, random_state=42)\n",
    "\n",
    "kmeans.fit(data)\n",
    "\n",
    "clusters = kmeans.predict(data)\n",
    "\n",
    "data['Cluster'] = clusters\n"
   ]
  },
  {
   "cell_type": "code",
   "execution_count": 185,
   "metadata": {},
   "outputs": [
    {
     "name": "stdout",
     "output_type": "stream",
     "text": [
      "         alcoholic       IBA  category_Cocktail  category_Ordinary Drink  \\\n",
      "Cluster                                                                    \n",
      "0              1.0  0.134615           0.076923                 0.923077   \n",
      "1              1.0  0.063492           0.031746                 0.968254   \n",
      "2              1.0  0.421053           0.000000                 0.947368   \n",
      "\n",
      "         category_Punch / Party Drink  glass_Brandy snifter  \\\n",
      "Cluster                                                       \n",
      "0                            0.000000              0.000000   \n",
      "1                            0.000000              0.000000   \n",
      "2                            0.052632              0.052632   \n",
      "\n",
      "         glass_Champagne flute  glass_Cocktail glass  glass_Collins glass  \\\n",
      "Cluster                                                                     \n",
      "0                     0.057692              0.153846             0.096154   \n",
      "1                     0.047619              0.809524             0.063492   \n",
      "2                     0.000000              0.000000             0.052632   \n",
      "\n",
      "         glass_Copper Mug  glass_Highball glass  glass_Old-fashioned glass  \\\n",
      "Cluster                                                                      \n",
      "0                0.000000              0.269231                   0.230769   \n",
      "1                0.000000              0.000000                   0.000000   \n",
      "2                0.052632              0.157895                   0.684211   \n",
      "\n",
      "         glass_Pousse cafe glass  glass_Whiskey Glass  \\\n",
      "Cluster                                                 \n",
      "0                       0.019231             0.000000   \n",
      "1                       0.015873             0.015873   \n",
      "2                       0.000000             0.000000   \n",
      "\n",
      "         glass_Whiskey sour glass  glass_White wine glass  instructions_length  \n",
      "Cluster                                                                         \n",
      "0                        0.153846                0.019231             1.007329  \n",
      "1                        0.047619                0.000000            -0.634964  \n",
      "2                        0.000000                0.000000            -0.651492  \n",
      "       alcoholic  IBA  category_Cocktail  category_Ordinary Drink  \\\n",
      "id                                                                  \n",
      "11000          1    1                  1                        0   \n",
      "11001          1    1                  1                        0   \n",
      "11002          1    0                  0                        1   \n",
      "11005          1    1                  1                        0   \n",
      "11007          1    1                  0                        1   \n",
      "\n",
      "       category_Punch / Party Drink  glass_Brandy snifter  \\\n",
      "id                                                          \n",
      "11000                             0                     0   \n",
      "11001                             0                     0   \n",
      "11002                             0                     0   \n",
      "11005                             0                     0   \n",
      "11007                             0                     0   \n",
      "\n",
      "       glass_Champagne flute  glass_Cocktail glass  glass_Collins glass  \\\n",
      "id                                                                        \n",
      "11000                      0                     0                    0   \n",
      "11001                      0                     0                    0   \n",
      "11002                      0                     0                    0   \n",
      "11005                      0                     1                    0   \n",
      "11007                      0                     1                    0   \n",
      "\n",
      "       glass_Copper Mug  glass_Highball glass  glass_Old-fashioned glass  \\\n",
      "id                                                                         \n",
      "11000                 0                     1                          0   \n",
      "11001                 0                     0                          1   \n",
      "11002                 0                     1                          0   \n",
      "11005                 0                     0                          0   \n",
      "11007                 0                     0                          0   \n",
      "\n",
      "       glass_Pousse cafe glass  glass_Whiskey Glass  glass_Whiskey sour glass  \\\n",
      "id                                                                              \n",
      "11000                        0                    0                         0   \n",
      "11001                        0                    0                         0   \n",
      "11002                        0                    0                         0   \n",
      "11005                        0                    0                         0   \n",
      "11007                        0                    0                         0   \n",
      "\n",
      "       glass_White wine glass  instructions_length  Cluster  \n",
      "id                                                           \n",
      "11000                       0             1.278194        0  \n",
      "11001                       0             1.600752        0  \n",
      "11002                       0             0.633079        0  \n",
      "11005                       0             0.848118        0  \n",
      "11007                       0             3.966174        0  \n"
     ]
    }
   ],
   "source": [
    "print(data.groupby('Cluster').mean())  \n",
    "\n",
    "print(data[data['Cluster'] == 0].head())  \n"
   ]
  },
  {
   "cell_type": "code",
   "execution_count": 186,
   "metadata": {},
   "outputs": [
    {
     "data": {
      "image/png": "[encoded data removed]",
      "text/plain": [
       "<Figure size 640x480 with 1 Axes>"
      ]
     },
     "metadata": {},
     "output_type": "display_data"
    }
   ],
   "source": [
    "from sklearn.decomposition import PCA\n",
    "\n",
    "pca = PCA(n_components=2)\n",
    "reduced_features = pca.fit_transform(data)\n",
    "\n",
    "plt.scatter(reduced_features[:, 0], reduced_features[:, 1], c=clusters, cmap='viridis')\n",
    "plt.xlabel('Składowa 1')\n",
    "plt.ylabel('Składowa 2')\n",
    "plt.title('Wizualizacja klastrów po redukcji wymiarów PCA')\n",
    "plt.show()\n"
   ]
  },
  {
   "cell_type": "code",
   "execution_count": null,
   "metadata": {},
   "outputs": [],
   "source": []
  }
 ],
 "metadata": {
  "kernelspec": {
   "display_name": "Python 3",
   "language": "python",
   "name": "python3"
  },
  "language_info": {
   "codemirror_mode": {
    "name": "ipython",
    "version": 3
   },
   "file_extension": ".py",
   "mimetype": "text/x-python",
   "name": "python",
   "nbconvert_exporter": "python",
   "pygments_lexer": "ipython3",
   "version": "3.12.4"
  }
 },
 "nbformat": 4,
 "nbformat_minor": 4
}
