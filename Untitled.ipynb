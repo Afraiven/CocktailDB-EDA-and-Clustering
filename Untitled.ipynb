{
 "cells": [
  {
   "cell_type": "code",
   "execution_count": 115,
   "metadata": {},
   "outputs": [],
   "source": [
    "import pandas as pd\n",
    "import numpy as np"
   ]
  },
  {
   "cell_type": "code",
   "execution_count": 116,
   "metadata": {},
   "outputs": [
    {
     "name": "stdout",
     "output_type": "stream",
     "text": [
      "<class 'pandas.core.frame.DataFrame'>\n",
      "Index: 134 entries, 11000 to 11993\n",
      "Data columns (total 10 columns):\n",
      " #   Column        Non-Null Count  Dtype \n",
      "---  ------        --------------  ----- \n",
      " 0   name          134 non-null    object\n",
      " 1   category      134 non-null    object\n",
      " 2   glass         134 non-null    object\n",
      " 3   tags          35 non-null     object\n",
      " 4   instructions  134 non-null    object\n",
      " 5   imageUrl      134 non-null    object\n",
      " 6   alcoholic     134 non-null    int64 \n",
      " 7   createdAt     134 non-null    object\n",
      " 8   updatedAt     134 non-null    object\n",
      " 9   ingredients   134 non-null    object\n",
      "dtypes: int64(1), object(9)\n",
      "memory usage: 11.5+ KB\n"
     ]
    }
   ],
   "source": [
    "data = pd.read_json(\"cocktail_dataset.json\")\n",
    "data.set_index('id', inplace=True)\n",
    "data.info()"
   ]
  },
  {
   "cell_type": "markdown",
   "metadata": {},
   "source": [
    "\n",
    "Preprocessing"
   ]
  },
  {
   "cell_type": "code",
   "execution_count": 117,
   "metadata": {},
   "outputs": [
    {
     "name": "stdout",
     "output_type": "stream",
     "text": [
      "134\n",
      "       alcoholic\n",
      "count      134.0\n",
      "mean         1.0\n",
      "std          0.0\n",
      "min          1.0\n",
      "25%          1.0\n",
      "50%          1.0\n",
      "75%          1.0\n",
      "max          1.0\n"
     ]
    }
   ],
   "source": [
    "print(len(data))\n",
    "print(data.describe())"
   ]
  },
  {
   "cell_type": "markdown",
   "metadata": {},
   "source": [
    "wszystkie drinki okazują się być z alkoholem"
   ]
  },
  {
   "cell_type": "code",
   "execution_count": 118,
   "metadata": {},
   "outputs": [
    {
     "name": "stdout",
     "output_type": "stream",
     "text": [
      "name             0\n",
      "category         0\n",
      "glass            0\n",
      "tags            99\n",
      "instructions     0\n",
      "imageUrl         0\n",
      "alcoholic        0\n",
      "createdAt        0\n",
      "updatedAt        0\n",
      "ingredients      0\n",
      "dtype: int64\n"
     ]
    }
   ],
   "source": [
    "# puste wartości\n",
    "print(data.isnull().sum())"
   ]
  },
  {
   "cell_type": "markdown",
   "metadata": {},
   "source": [
    "usuwam iamgeUrl oraz daty, ponieważ nie wnoszą nic i wszystkie dotyczą jednego dnia"
   ]
  },
  {
   "cell_type": "code",
   "execution_count": 119,
   "metadata": {},
   "outputs": [],
   "source": [
    "data = data.drop(columns=[\"imageUrl\", \"createdAt\", \"updatedAt\"])"
   ]
  },
  {
   "cell_type": "code",
   "execution_count": 120,
   "metadata": {},
   "outputs": [
    {
     "name": "stdout",
     "output_type": "stream",
     "text": [
      "['Alcoholic', 'Asia', 'Beach', 'Breakfast', 'Brunch', 'Chilli', 'Christmas', 'Citrus', 'Classic', 'Cold', 'ContemporaryClassic', 'Dairy', 'DinnerParty', 'Expensive', 'Fruity', 'Hangover', 'IBA', 'Mild', 'NewEra', 'Nutty', 'Savory', 'Sour', 'Strong', 'StrongFlavor', 'Summer', 'USA', 'Vegan', 'Vegetarian']\n"
     ]
    }
   ],
   "source": [
    "# wszystkie tagi\n",
    "tags = set()\n",
    "for tags_list in data['tags']:\n",
    "    if type(tags_list) == list:\n",
    "        for tag in tags_list:\n",
    "            tags.add(tag)\n",
    "print(sorted(tags))"
   ]
  },
  {
   "cell_type": "markdown",
   "metadata": {},
   "source": [
    "Po zweryfikowaniu tagów takich jak IBA okazuja się, że są one puste, ponieważ nie należą do zbioru oficjalnych koktajli IBA,\n",
    "po weryfikacji z oficjalnym zbiorem, utworzę kolumne IBA z wartościami 0/1"
   ]
  },
  {
   "cell_type": "code",
   "execution_count": 121,
   "metadata": {},
   "outputs": [
    {
     "name": "stdout",
     "output_type": "stream",
     "text": [
      "0\n"
     ]
    }
   ],
   "source": [
    "# oficjalne IBA\n",
    "with open(\"official_IBA.txt\", \"r\", encoding=\"utf-8\") as file:\n",
    "    official_IBA = file.read().splitlines()\n",
    "\n",
    "i = 0\n",
    "# weryfikuję czy tagi IBA sie zgadzają \n",
    "for _, row in data.iterrows():\n",
    "    if type(row[\"tags\"]) == list:\n",
    "        if row[\"tags\"].count(\"IBA\") > 0:\n",
    "            if row[\"name\"] not in official_IBA:\n",
    "                pass\n",
    "        elif row[\"name\"] in official_IBA:\n",
    "            print(row[\"name\"], row[\"tags\"])\n",
    "            \n",
    "\n",
    "print(i)"
   ]
  },
  {
   "cell_type": "markdown",
   "metadata": {},
   "source": [
    "Teraz jest pewność, że drinki bez tagów, są drinakmi niezatwierdzonymi przez IBA.\n",
    "\n",
    "Pojawiło się kilka drinków, które nie pasowały, pomimo bycia w tagach IBA, po weryfikacji, okazało się, że zostały usunięte. Na przykład Godfather, usunięty w 2020 roku."
   ]
  },
  {
   "cell_type": "code",
   "execution_count": 122,
   "metadata": {},
   "outputs": [],
   "source": [
    "# tworzę nową kolumnę z wartościami 0 i 1 dla tagów IBA\n",
    "data[\"IBA\"] = 0\n",
    "for i, row in data.iterrows():\n",
    "    if row[\"name\"] in official_IBA:\n",
    "        data.at[i, \"IBA\"] = 1"
   ]
  },
  {
   "cell_type": "markdown",
   "metadata": {},
   "source": [
    "Dodaję każdemu wierszowi tag Alcoholic"
   ]
  },
  {
   "cell_type": "code",
   "execution_count": 123,
   "metadata": {},
   "outputs": [],
   "source": [
    "for i, row in data.iterrows():\n",
    "    if type(row[\"tags\"]) == list:\n",
    "        if \"Alcoholic\" not in row[\"tags\"]:\n",
    "            row[\"tags\"].append(\"Alcoholic\")\n",
    "    else:\n",
    "        row[\"tags\"] = [\"Alcoholic\"]"
   ]
  },
  {
   "cell_type": "code",
   "execution_count": 124,
   "metadata": {},
   "outputs": [
    {
     "data": {
      "text/plain": [
       "{'Cocktail', 'Ordinary Drink', 'Punch / Party Drink'}"
      ]
     },
     "execution_count": 124,
     "metadata": {},
     "output_type": "execute_result"
    }
   ],
   "source": [
    "set(data.category)"
   ]
  },
  {
   "cell_type": "markdown",
   "metadata": {},
   "source": [
    "Są 3 kategorie drinków, więc zastosuję one-hot encoding"
   ]
  },
  {
   "cell_type": "code",
   "execution_count": 125,
   "metadata": {},
   "outputs": [],
   "source": [
    "data = pd.get_dummies(data, columns=['category'])\n",
    "\n",
    "dummy_columns = [col for col in data.columns if col.startswith('category_')]\n",
    "data[dummy_columns] = data[dummy_columns].astype(int)"
   ]
  },
  {
   "cell_type": "code",
   "execution_count": 126,
   "metadata": {},
   "outputs": [
    {
     "data": {
      "text/plain": [
       "Index(['name', 'glass', 'tags', 'instructions', 'alcoholic', 'ingredients',\n",
       "       'IBA', 'category_Cocktail', 'category_Ordinary Drink',\n",
       "       'category_Punch / Party Drink'],\n",
       "      dtype='object')"
      ]
     },
     "execution_count": 126,
     "metadata": {},
     "output_type": "execute_result"
    }
   ],
   "source": [
    "data.columns"
   ]
  },
  {
   "cell_type": "code",
   "execution_count": 127,
   "metadata": {},
   "outputs": [
    {
     "data": {
      "text/html": [
       "<div>\n",
       "<style scoped>\n",
       "    .dataframe tbody tr th:only-of-type {\n",
       "        vertical-align: middle;\n",
       "    }\n",
       "\n",
       "    .dataframe tbody tr th {\n",
       "        vertical-align: top;\n",
       "    }\n",
       "\n",
       "    .dataframe thead th {\n",
       "        text-align: right;\n",
       "    }\n",
       "</style>\n",
       "<table border=\"1\" class=\"dataframe\">\n",
       "  <thead>\n",
       "    <tr style=\"text-align: right;\">\n",
       "      <th></th>\n",
       "      <th>name</th>\n",
       "      <th>glass</th>\n",
       "      <th>tags</th>\n",
       "      <th>instructions</th>\n",
       "      <th>alcoholic</th>\n",
       "      <th>ingredients</th>\n",
       "      <th>IBA</th>\n",
       "      <th>category_Cocktail</th>\n",
       "      <th>category_Ordinary Drink</th>\n",
       "      <th>category_Punch / Party Drink</th>\n",
       "    </tr>\n",
       "    <tr>\n",
       "      <th>id</th>\n",
       "      <th></th>\n",
       "      <th></th>\n",
       "      <th></th>\n",
       "      <th></th>\n",
       "      <th></th>\n",
       "      <th></th>\n",
       "      <th></th>\n",
       "      <th></th>\n",
       "      <th></th>\n",
       "      <th></th>\n",
       "    </tr>\n",
       "  </thead>\n",
       "  <tbody>\n",
       "    <tr>\n",
       "      <th>11000</th>\n",
       "      <td>Mojito</td>\n",
       "      <td>Highball glass</td>\n",
       "      <td>[IBA, ContemporaryClassic, Alcoholic, USA, Asi...</td>\n",
       "      <td>Muddle mint leaves with sugar and lime juice. ...</td>\n",
       "      <td>1</td>\n",
       "      <td>[{'id': 170, 'name': 'Soda water', 'descriptio...</td>\n",
       "      <td>1</td>\n",
       "      <td>1</td>\n",
       "      <td>0</td>\n",
       "      <td>0</td>\n",
       "    </tr>\n",
       "    <tr>\n",
       "      <th>11001</th>\n",
       "      <td>Old Fashioned</td>\n",
       "      <td>Old-fashioned glass</td>\n",
       "      <td>[IBA, Classic, Alcoholic, Expensive, Savory]</td>\n",
       "      <td>Place sugar cube in old fashioned glass and sa...</td>\n",
       "      <td>1</td>\n",
       "      <td>[{'id': 513, 'name': 'Water', 'description': '...</td>\n",
       "      <td>1</td>\n",
       "      <td>1</td>\n",
       "      <td>0</td>\n",
       "      <td>0</td>\n",
       "    </tr>\n",
       "    <tr>\n",
       "      <th>11002</th>\n",
       "      <td>Long Island Tea</td>\n",
       "      <td>Highball glass</td>\n",
       "      <td>[Strong, Asia, StrongFlavor, Brunch, Vegetaria...</td>\n",
       "      <td>Combine all ingredients (except cola) and pour...</td>\n",
       "      <td>1</td>\n",
       "      <td>[{'id': 305, 'name': 'Light Rum', 'description...</td>\n",
       "      <td>0</td>\n",
       "      <td>0</td>\n",
       "      <td>1</td>\n",
       "      <td>0</td>\n",
       "    </tr>\n",
       "    <tr>\n",
       "      <th>11003</th>\n",
       "      <td>Negroni</td>\n",
       "      <td>Old-fashioned glass</td>\n",
       "      <td>[IBA, Classic, Alcoholic]</td>\n",
       "      <td>Stir into glass over ice, garnish and serve.</td>\n",
       "      <td>1</td>\n",
       "      <td>[{'id': 482, 'name': 'Sweet Vermouth', 'descri...</td>\n",
       "      <td>1</td>\n",
       "      <td>0</td>\n",
       "      <td>1</td>\n",
       "      <td>0</td>\n",
       "    </tr>\n",
       "    <tr>\n",
       "      <th>11004</th>\n",
       "      <td>Whiskey Sour</td>\n",
       "      <td>Old-fashioned glass</td>\n",
       "      <td>[IBA, Classic, Alcoholic, ContemporaryClassic]</td>\n",
       "      <td>Shake with ice. Strain into chilled glass, gar...</td>\n",
       "      <td>1</td>\n",
       "      <td>[{'id': 409, 'name': 'Powdered Sugar', 'descri...</td>\n",
       "      <td>1</td>\n",
       "      <td>0</td>\n",
       "      <td>1</td>\n",
       "      <td>0</td>\n",
       "    </tr>\n",
       "  </tbody>\n",
       "</table>\n",
       "</div>"
      ],
      "text/plain": [
       "                  name                glass  \\\n",
       "id                                            \n",
       "11000           Mojito       Highball glass   \n",
       "11001    Old Fashioned  Old-fashioned glass   \n",
       "11002  Long Island Tea       Highball glass   \n",
       "11003          Negroni  Old-fashioned glass   \n",
       "11004     Whiskey Sour  Old-fashioned glass   \n",
       "\n",
       "                                                    tags  \\\n",
       "id                                                         \n",
       "11000  [IBA, ContemporaryClassic, Alcoholic, USA, Asi...   \n",
       "11001       [IBA, Classic, Alcoholic, Expensive, Savory]   \n",
       "11002  [Strong, Asia, StrongFlavor, Brunch, Vegetaria...   \n",
       "11003                          [IBA, Classic, Alcoholic]   \n",
       "11004     [IBA, Classic, Alcoholic, ContemporaryClassic]   \n",
       "\n",
       "                                            instructions  alcoholic  \\\n",
       "id                                                                    \n",
       "11000  Muddle mint leaves with sugar and lime juice. ...          1   \n",
       "11001  Place sugar cube in old fashioned glass and sa...          1   \n",
       "11002  Combine all ingredients (except cola) and pour...          1   \n",
       "11003       Stir into glass over ice, garnish and serve.          1   \n",
       "11004  Shake with ice. Strain into chilled glass, gar...          1   \n",
       "\n",
       "                                             ingredients  IBA  \\\n",
       "id                                                              \n",
       "11000  [{'id': 170, 'name': 'Soda water', 'descriptio...    1   \n",
       "11001  [{'id': 513, 'name': 'Water', 'description': '...    1   \n",
       "11002  [{'id': 305, 'name': 'Light Rum', 'description...    0   \n",
       "11003  [{'id': 482, 'name': 'Sweet Vermouth', 'descri...    1   \n",
       "11004  [{'id': 409, 'name': 'Powdered Sugar', 'descri...    1   \n",
       "\n",
       "       category_Cocktail  category_Ordinary Drink  \\\n",
       "id                                                  \n",
       "11000                  1                        0   \n",
       "11001                  1                        0   \n",
       "11002                  0                        1   \n",
       "11003                  0                        1   \n",
       "11004                  0                        1   \n",
       "\n",
       "       category_Punch / Party Drink  \n",
       "id                                   \n",
       "11000                             0  \n",
       "11001                             0  \n",
       "11002                             0  \n",
       "11003                             0  \n",
       "11004                             0  "
      ]
     },
     "execution_count": 127,
     "metadata": {},
     "output_type": "execute_result"
    }
   ],
   "source": [
    "data.head()"
   ]
  },
  {
   "cell_type": "code",
   "execution_count": null,
   "metadata": {},
   "outputs": [],
   "source": []
  }
 ],
 "metadata": {
  "kernelspec": {
   "display_name": "Python 3",
   "language": "python",
   "name": "python3"
  },
  "language_info": {
   "codemirror_mode": {
    "name": "ipython",
    "version": 3
   },
   "file_extension": ".py",
   "mimetype": "text/x-python",
   "name": "python",
   "nbconvert_exporter": "python",
   "pygments_lexer": "ipython3",
   "version": "3.12.4"
  }
 },
 "nbformat": 4,
 "nbformat_minor": 4
}
